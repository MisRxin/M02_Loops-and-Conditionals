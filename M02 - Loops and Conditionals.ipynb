{
 "cells": [
  {
   "cell_type": "markdown",
   "id": "7e61b491-c077-4aa3-b453-4ccc003c0b4a",
   "metadata": {},
   "source": [
    "4.1\n",
    "Choose a number between 1 and 10 and assign it to the variable secret. Then, select another number between 1 and 10 and assign it to the variable guess. Next, write the conditional tests (if, else, and elif) to print the string 'too low' if guess is less than secret, 'too high' if greater than secret, and 'just right' if equal to secret."
   ]
  },
  {
   "cell_type": "code",
   "execution_count": 14,
   "id": "dad4eaf1-de30-4d95-9786-05cd61a9fd0d",
   "metadata": {},
   "outputs": [
    {
     "name": "stdout",
     "output_type": "stream",
     "text": [
      "Too High\n"
     ]
    }
   ],
   "source": [
    "# Number Assignments\n",
    "secret = 3\n",
    "guess = 5\n",
    "\n",
    "# Conditional Tests\n",
    "if guess < secret:\n",
    "    print(\"Too Low\")\n",
    "elif guess > secret:\n",
    "    print(\"Too High\")\n",
    "else:\n",
    "    print(\"Just Right\")"
   ]
  },
  {
   "cell_type": "markdown",
   "id": "6a6b077c-4696-4d58-8f53-539f33773eb0",
   "metadata": {},
   "source": [
    "4.2 \n",
    "Assign True or False to the variables small and green. Write some if/else statements to print which of these matches those choices: cherry, pea, watermelon, pumpkin.\r\n"
   ]
  },
  {
   "cell_type": "code",
   "execution_count": 22,
   "id": "bd47c5af-d56a-4246-b495-5683d862c70e",
   "metadata": {},
   "outputs": [
    {
     "name": "stdout",
     "output_type": "stream",
     "text": [
      "Cherry\n"
     ]
    }
   ],
   "source": [
    "# Assignments\n",
    "small = True\n",
    "green = False\n",
    "\n",
    "if small and green:\n",
    "    print(\"Pea\")\n",
    "elif small and not green:\n",
    "    print(\"Cherry\")\n",
    "elif not small and green:\n",
    "    print(\"Watermelon\")\n",
    "else:\n",
    "    print(\"Pumpkin\")"
   ]
  },
  {
   "cell_type": "markdown",
   "id": "78168de3-f8a2-4399-bf8d-da6fce2e539a",
   "metadata": {},
   "source": [
    "6.1 \n",
    "Use a for loop to print the values of the list [3, 2, 1, 0].\r\n"
   ]
  },
  {
   "cell_type": "code",
   "execution_count": 24,
   "id": "b3b476f1-9b71-478f-b268-562cf05ef875",
   "metadata": {},
   "outputs": [
    {
     "name": "stdout",
     "output_type": "stream",
     "text": [
      "3\n",
      "2\n",
      "1\n",
      "0\n"
     ]
    }
   ],
   "source": [
    "# Numbers List\n",
    "numbers = [3,2,1,0]\n",
    "\n",
    "for number in numbers:\n",
    "    print(number)"
   ]
  },
  {
   "cell_type": "markdown",
   "id": "e7b371fa-2d7b-4f53-afa8-2ec45a80e56e",
   "metadata": {},
   "source": [
    "6.2 \n",
    "Assign the value 7 to the variable guess_me, and the value 1 to the variable number. Write a while loop that compares number with guess_me. Print 'too low' if number is less than guess me. If number equals guess_me, print 'found it!' and then exit the loop. If number is greater than guess_me, print 'oops' and then exit the loop. Increment number at the end of the loop.\r\n"
   ]
  },
  {
   "cell_type": "code",
   "execution_count": null,
   "id": "3c176766-54c5-49f5-a0f4-cc93d6d12d37",
   "metadata": {},
   "outputs": [],
   "source": [
    "# Assignments\n",
    "guess_me = 7\n",
    "number = 1\n",
    "\n",
    "while True:\n",
    "    if number < guess_me:\n",
    "        print(\"Too Low\")\n",
    "    elif number == guess_me:\n",
    "        print(\"Found It!\")\n",
    "        break\n",
    "    else:\n",
    "        print(\"Oops\")\n",
    "        break\n",
    "        \n",
    "    number += 1"
   ]
  },
  {
   "cell_type": "markdown",
   "id": "25a20bbb-0d5c-4ce8-867b-6ae50f015a73",
   "metadata": {},
   "source": [
    "6.3 \n",
    "Assign the value 5 to the variable guess_me. Use a for loop to iterate a variable called number over range(10). If number is less than guess_me, print 'too low'. If it equals guess_me, print found it! and then break out of the for loop. If number is greater than guess_me, print 'oops' and then exit the loop.\r\n"
   ]
  },
  {
   "cell_type": "code",
   "execution_count": null,
   "id": "d4c77f95-e554-44be-89f5-e20af665c500",
   "metadata": {},
   "outputs": [],
   "source": []
  }
 ],
 "metadata": {
  "kernelspec": {
   "display_name": "Python 3 (ipykernel)",
   "language": "python",
   "name": "python3"
  },
  "language_info": {
   "codemirror_mode": {
    "name": "ipython",
    "version": 3
   },
   "file_extension": ".py",
   "mimetype": "text/x-python",
   "name": "python",
   "nbconvert_exporter": "python",
   "pygments_lexer": "ipython3",
   "version": "3.12.4"
  }
 },
 "nbformat": 4,
 "nbformat_minor": 5
}
